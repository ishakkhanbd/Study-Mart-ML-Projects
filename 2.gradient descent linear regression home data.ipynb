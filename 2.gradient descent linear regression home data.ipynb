{
 "cells": [
  {
   "cell_type": "code",
   "execution_count": 2,
   "id": "44854238",
   "metadata": {},
   "outputs": [
    {
     "data": {
      "text/html": [
       "<div>\n",
       "<style scoped>\n",
       "    .dataframe tbody tr th:only-of-type {\n",
       "        vertical-align: middle;\n",
       "    }\n",
       "\n",
       "    .dataframe tbody tr th {\n",
       "        vertical-align: top;\n",
       "    }\n",
       "\n",
       "    .dataframe thead th {\n",
       "        text-align: right;\n",
       "    }\n",
       "</style>\n",
       "<table border=\"1\" class=\"dataframe\">\n",
       "  <thead>\n",
       "    <tr style=\"text-align: right;\">\n",
       "      <th></th>\n",
       "      <th>area</th>\n",
       "      <th>price</th>\n",
       "    </tr>\n",
       "  </thead>\n",
       "  <tbody>\n",
       "    <tr>\n",
       "      <th>0</th>\n",
       "      <td>2600</td>\n",
       "      <td>55000</td>\n",
       "    </tr>\n",
       "    <tr>\n",
       "      <th>1</th>\n",
       "      <td>3000</td>\n",
       "      <td>56500</td>\n",
       "    </tr>\n",
       "    <tr>\n",
       "      <th>2</th>\n",
       "      <td>3200</td>\n",
       "      <td>61000</td>\n",
       "    </tr>\n",
       "    <tr>\n",
       "      <th>3</th>\n",
       "      <td>3600</td>\n",
       "      <td>68000</td>\n",
       "    </tr>\n",
       "    <tr>\n",
       "      <th>4</th>\n",
       "      <td>4000</td>\n",
       "      <td>72000</td>\n",
       "    </tr>\n",
       "    <tr>\n",
       "      <th>5</th>\n",
       "      <td>5000</td>\n",
       "      <td>71000</td>\n",
       "    </tr>\n",
       "    <tr>\n",
       "      <th>6</th>\n",
       "      <td>2500</td>\n",
       "      <td>40000</td>\n",
       "    </tr>\n",
       "    <tr>\n",
       "      <th>7</th>\n",
       "      <td>2700</td>\n",
       "      <td>38000</td>\n",
       "    </tr>\n",
       "    <tr>\n",
       "      <th>8</th>\n",
       "      <td>1200</td>\n",
       "      <td>17000</td>\n",
       "    </tr>\n",
       "    <tr>\n",
       "      <th>9</th>\n",
       "      <td>1000</td>\n",
       "      <td>17900</td>\n",
       "    </tr>\n",
       "  </tbody>\n",
       "</table>\n",
       "</div>"
      ],
      "text/plain": [
       "   area  price\n",
       "0  2600  55000\n",
       "1  3000  56500\n",
       "2  3200  61000\n",
       "3  3600  68000\n",
       "4  4000  72000\n",
       "5  5000  71000\n",
       "6  2500  40000\n",
       "7  2700  38000\n",
       "8  1200  17000\n",
       "9  1000  17900"
      ]
     },
     "execution_count": 2,
     "metadata": {},
     "output_type": "execute_result"
    }
   ],
   "source": [
    "import os\n",
    "os.chdir('C:\\\\Users\\\\mdishakk\\\\Downloads')\n",
    "\n",
    "\n",
    "import numpy as np\n",
    "import matplotlib.pyplot as plt\n",
    "import pandas as pd\n",
    "\n",
    "df = pd.read_csv('homeprices.csv')\n",
    "df"
   ]
  },
  {
   "cell_type": "code",
   "execution_count": 25,
   "id": "a68c0ac4",
   "metadata": {},
   "outputs": [
    {
     "name": "stdout",
     "output_type": "stream",
     "text": [
      "-327280000.001 -99280.001\n",
      "-6279849866431993.0 -1885133197125.7637\n",
      "-1.204977763753145e+23 -3.6171940886047977e+19\n",
      "-2.3121116619376906e+30 -6.940673004376342e+26\n",
      "-4.436480487919972e+37 -1.3317765254963e+34\n",
      "-8.51271997097217e+44 -2.5554131605748615e+41\n",
      "-1.6334209403491377e+52 -4.903327469903918e+48\n",
      "-3.1342085461156822e+59 -9.408506087409272e+55\n",
      "-6.013920213637578e+66 -1.8053044048178156e+63\n",
      "-1.1539511747175143e+74 -3.464018584646566e+70\n"
     ]
    }
   ],
   "source": [
    "m=0\n",
    "c=0\n",
    "learningrate=0.001\n",
    "x = df.area\n",
    "y=df.price\n",
    "n=int(len(x))\n",
    "iterations = 10\n",
    "\n",
    "for i in range(iterations):\n",
    "    ypred = m*x+c\n",
    "    dm = (-2/n)*sum(x*(y-ypred))\n",
    "    dc = (-2/n)*sum(y-ypred)\n",
    "    \n",
    "    m = m - (learningrate - dm)\n",
    "    c = c - (learningrate - dc)\n",
    "    \n",
    "    print(m,c)"
   ]
  },
  {
   "cell_type": "code",
   "execution_count": 26,
   "id": "f0b61468",
   "metadata": {},
   "outputs": [
    {
     "data": {
      "text/plain": [
       "-1.1539858149033606e+75"
      ]
     },
     "execution_count": 26,
     "metadata": {},
     "output_type": "execute_result"
    }
   ],
   "source": [
    "xrandom = 10\n",
    "ypredicted = m*xrandom+c\n",
    "ypredicted"
   ]
  },
  {
   "cell_type": "code",
   "execution_count": 27,
   "id": "88ce05d8",
   "metadata": {},
   "outputs": [],
   "source": [
    "#used a different dataset, so it doesn't fit well"
   ]
  },
  {
   "cell_type": "code",
   "execution_count": null,
   "id": "0d2f1c7b",
   "metadata": {},
   "outputs": [],
   "source": []
  }
 ],
 "metadata": {
  "kernelspec": {
   "display_name": "Python 3 (ipykernel)",
   "language": "python",
   "name": "python3"
  },
  "language_info": {
   "codemirror_mode": {
    "name": "ipython",
    "version": 3
   },
   "file_extension": ".py",
   "mimetype": "text/x-python",
   "name": "python",
   "nbconvert_exporter": "python",
   "pygments_lexer": "ipython3",
   "version": "3.9.13"
  }
 },
 "nbformat": 4,
 "nbformat_minor": 5
}
